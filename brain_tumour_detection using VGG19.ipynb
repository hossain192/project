{
 "cells": [
  {
   "cell_type": "code",
   "execution_count": 2,
   "id": "4351b243",
   "metadata": {},
   "outputs": [],
   "source": [
    "import numpy as np\n",
    "import tensorflow as tf\n",
    "from tensorflow import keras\n",
    "import pandas as pd\n",
    "import matplotlib.pyplot as plt\n",
    "from tensorflow.keras.models import Model,Sequential\n",
    "from keras.layers import Dense,Flatten,Dropout\n",
    "from keras.preprocessing.image import ImageDataGenerator\n",
    "from keras.preprocessing import image\n",
    "from keras.applications.vgg19 import VGG19\n",
    "from keras.applications.vgg19 import preprocess_input\n",
    "import os"
   ]
  },
  {
   "cell_type": "code",
   "execution_count": 3,
   "id": "42b663cf",
   "metadata": {},
   "outputs": [],
   "source": [
    "image_size=[224,224]"
   ]
  },
  {
   "cell_type": "code",
   "execution_count": 4,
   "id": "ccddc1b8",
   "metadata": {},
   "outputs": [],
   "source": [
    "train_directory='new_brain_train'\n",
    "test_directory='new_brain_test'"
   ]
  },
  {
   "cell_type": "code",
   "execution_count": 5,
   "id": "31744888",
   "metadata": {},
   "outputs": [],
   "source": [
    "from glob import glob\n",
    "folder_length=glob('brain_tumor_dataset_training/*')"
   ]
  },
  {
   "cell_type": "code",
   "execution_count": 6,
   "id": "c4093cc8",
   "metadata": {},
   "outputs": [
    {
     "data": {
      "text/plain": [
       "2"
      ]
     },
     "execution_count": 6,
     "metadata": {},
     "output_type": "execute_result"
    }
   ],
   "source": [
    "len(folder_length)"
   ]
  },
  {
   "cell_type": "code",
   "execution_count": 11,
   "id": "fa5fc9ea",
   "metadata": {},
   "outputs": [],
   "source": [
    "folder_length_no=glob('brain_tumor_dataset_training/yes/*')"
   ]
  },
  {
   "cell_type": "code",
   "execution_count": 12,
   "id": "bbb76a03",
   "metadata": {},
   "outputs": [
    {
     "data": {
      "text/plain": [
       "155"
      ]
     },
     "execution_count": 12,
     "metadata": {},
     "output_type": "execute_result"
    }
   ],
   "source": [
    "len(folder_length_no)"
   ]
  },
  {
   "cell_type": "code",
   "execution_count": 13,
   "id": "933361ab",
   "metadata": {},
   "outputs": [
    {
     "data": {
      "text/plain": [
       "['brain_tumor_dataset_training/yes\\\\Y1.jpg',\n",
       " 'brain_tumor_dataset_training/yes\\\\Y10.jpg',\n",
       " 'brain_tumor_dataset_training/yes\\\\Y100.JPG',\n",
       " 'brain_tumor_dataset_training/yes\\\\Y101.jpg',\n",
       " 'brain_tumor_dataset_training/yes\\\\Y102.jpg',\n",
       " 'brain_tumor_dataset_training/yes\\\\Y103.jpg',\n",
       " 'brain_tumor_dataset_training/yes\\\\Y104.jpg',\n",
       " 'brain_tumor_dataset_training/yes\\\\Y105.jpg',\n",
       " 'brain_tumor_dataset_training/yes\\\\Y106.jpg',\n",
       " 'brain_tumor_dataset_training/yes\\\\Y107.jpg',\n",
       " 'brain_tumor_dataset_training/yes\\\\Y108.jpg',\n",
       " 'brain_tumor_dataset_training/yes\\\\Y109.JPG',\n",
       " 'brain_tumor_dataset_training/yes\\\\Y11.jpg',\n",
       " 'brain_tumor_dataset_training/yes\\\\Y111.JPG',\n",
       " 'brain_tumor_dataset_training/yes\\\\Y112.JPG',\n",
       " 'brain_tumor_dataset_training/yes\\\\Y113.JPG',\n",
       " 'brain_tumor_dataset_training/yes\\\\Y114.JPG',\n",
       " 'brain_tumor_dataset_training/yes\\\\Y115.JPG',\n",
       " 'brain_tumor_dataset_training/yes\\\\Y116.JPG',\n",
       " 'brain_tumor_dataset_training/yes\\\\Y117.JPG',\n",
       " 'brain_tumor_dataset_training/yes\\\\Y12.jpg',\n",
       " 'brain_tumor_dataset_training/yes\\\\Y120.JPG',\n",
       " 'brain_tumor_dataset_training/yes\\\\Y13.jpg',\n",
       " 'brain_tumor_dataset_training/yes\\\\Y14.jpg',\n",
       " 'brain_tumor_dataset_training/yes\\\\Y146.JPG',\n",
       " 'brain_tumor_dataset_training/yes\\\\Y147.JPG',\n",
       " 'brain_tumor_dataset_training/yes\\\\Y148.JPG',\n",
       " 'brain_tumor_dataset_training/yes\\\\Y15.jpg',\n",
       " 'brain_tumor_dataset_training/yes\\\\Y153.jpg',\n",
       " 'brain_tumor_dataset_training/yes\\\\Y154.jpg',\n",
       " 'brain_tumor_dataset_training/yes\\\\Y155.JPG',\n",
       " 'brain_tumor_dataset_training/yes\\\\Y156.JPG',\n",
       " 'brain_tumor_dataset_training/yes\\\\Y157.JPG',\n",
       " 'brain_tumor_dataset_training/yes\\\\Y158.JPG',\n",
       " 'brain_tumor_dataset_training/yes\\\\Y159.JPG',\n",
       " 'brain_tumor_dataset_training/yes\\\\Y16.JPG',\n",
       " 'brain_tumor_dataset_training/yes\\\\Y160.JPG',\n",
       " 'brain_tumor_dataset_training/yes\\\\Y161.JPG',\n",
       " 'brain_tumor_dataset_training/yes\\\\Y162.jpg',\n",
       " 'brain_tumor_dataset_training/yes\\\\Y163.JPG',\n",
       " 'brain_tumor_dataset_training/yes\\\\Y164.JPG',\n",
       " 'brain_tumor_dataset_training/yes\\\\Y165.JPG',\n",
       " 'brain_tumor_dataset_training/yes\\\\Y166.JPG',\n",
       " 'brain_tumor_dataset_training/yes\\\\Y167.JPG',\n",
       " 'brain_tumor_dataset_training/yes\\\\Y168.jpg',\n",
       " 'brain_tumor_dataset_training/yes\\\\Y169.jpg',\n",
       " 'brain_tumor_dataset_training/yes\\\\Y17.jpg',\n",
       " 'brain_tumor_dataset_training/yes\\\\Y170.JPG',\n",
       " 'brain_tumor_dataset_training/yes\\\\Y18.JPG',\n",
       " 'brain_tumor_dataset_training/yes\\\\Y180.jpg',\n",
       " 'brain_tumor_dataset_training/yes\\\\Y181.jpg',\n",
       " 'brain_tumor_dataset_training/yes\\\\Y182.JPG',\n",
       " 'brain_tumor_dataset_training/yes\\\\Y183.jpg',\n",
       " 'brain_tumor_dataset_training/yes\\\\Y184.JPG',\n",
       " 'brain_tumor_dataset_training/yes\\\\Y185.jpg',\n",
       " 'brain_tumor_dataset_training/yes\\\\Y186.jpg',\n",
       " 'brain_tumor_dataset_training/yes\\\\Y187.jpg',\n",
       " 'brain_tumor_dataset_training/yes\\\\Y188.jpg',\n",
       " 'brain_tumor_dataset_training/yes\\\\Y19.JPG',\n",
       " 'brain_tumor_dataset_training/yes\\\\Y192.JPG',\n",
       " 'brain_tumor_dataset_training/yes\\\\Y193.JPG',\n",
       " 'brain_tumor_dataset_training/yes\\\\Y194.jpg',\n",
       " 'brain_tumor_dataset_training/yes\\\\Y195.JPG',\n",
       " 'brain_tumor_dataset_training/yes\\\\Y2.jpg',\n",
       " 'brain_tumor_dataset_training/yes\\\\Y20.jpg',\n",
       " 'brain_tumor_dataset_training/yes\\\\Y21.jpg',\n",
       " 'brain_tumor_dataset_training/yes\\\\Y22.jpg',\n",
       " 'brain_tumor_dataset_training/yes\\\\Y23.JPG',\n",
       " 'brain_tumor_dataset_training/yes\\\\Y24.jpg',\n",
       " 'brain_tumor_dataset_training/yes\\\\Y242.JPG',\n",
       " 'brain_tumor_dataset_training/yes\\\\Y243.JPG',\n",
       " 'brain_tumor_dataset_training/yes\\\\Y244.JPG',\n",
       " 'brain_tumor_dataset_training/yes\\\\Y245.jpg',\n",
       " 'brain_tumor_dataset_training/yes\\\\Y246.JPG',\n",
       " 'brain_tumor_dataset_training/yes\\\\Y247.JPG',\n",
       " 'brain_tumor_dataset_training/yes\\\\Y248.JPG',\n",
       " 'brain_tumor_dataset_training/yes\\\\Y249.JPG',\n",
       " 'brain_tumor_dataset_training/yes\\\\Y25.jpg',\n",
       " 'brain_tumor_dataset_training/yes\\\\Y250.jpg',\n",
       " 'brain_tumor_dataset_training/yes\\\\Y251.JPG',\n",
       " 'brain_tumor_dataset_training/yes\\\\Y252.jpg',\n",
       " 'brain_tumor_dataset_training/yes\\\\Y253.JPG',\n",
       " 'brain_tumor_dataset_training/yes\\\\Y254.jpg',\n",
       " 'brain_tumor_dataset_training/yes\\\\Y255.JPG',\n",
       " 'brain_tumor_dataset_training/yes\\\\Y256.JPG',\n",
       " 'brain_tumor_dataset_training/yes\\\\Y257.jpg',\n",
       " 'brain_tumor_dataset_training/yes\\\\Y258.JPG',\n",
       " 'brain_tumor_dataset_training/yes\\\\Y259.JPG',\n",
       " 'brain_tumor_dataset_training/yes\\\\Y26.jpg',\n",
       " 'brain_tumor_dataset_training/yes\\\\Y27.jpg',\n",
       " 'brain_tumor_dataset_training/yes\\\\Y28.jpg',\n",
       " 'brain_tumor_dataset_training/yes\\\\Y29.jpg',\n",
       " 'brain_tumor_dataset_training/yes\\\\Y3.jpg',\n",
       " 'brain_tumor_dataset_training/yes\\\\Y30.jpg',\n",
       " 'brain_tumor_dataset_training/yes\\\\Y31.jpg',\n",
       " 'brain_tumor_dataset_training/yes\\\\Y32.jpg',\n",
       " 'brain_tumor_dataset_training/yes\\\\Y33.jpg',\n",
       " 'brain_tumor_dataset_training/yes\\\\Y34.jpg',\n",
       " 'brain_tumor_dataset_training/yes\\\\Y35.jpg',\n",
       " 'brain_tumor_dataset_training/yes\\\\Y36.JPG',\n",
       " 'brain_tumor_dataset_training/yes\\\\Y37.jpg',\n",
       " 'brain_tumor_dataset_training/yes\\\\Y38.jpg',\n",
       " 'brain_tumor_dataset_training/yes\\\\Y39.jpg',\n",
       " 'brain_tumor_dataset_training/yes\\\\Y4.jpg',\n",
       " 'brain_tumor_dataset_training/yes\\\\Y40.JPG',\n",
       " 'brain_tumor_dataset_training/yes\\\\Y41.jpg',\n",
       " 'brain_tumor_dataset_training/yes\\\\Y42.jpg',\n",
       " 'brain_tumor_dataset_training/yes\\\\Y44.JPG',\n",
       " 'brain_tumor_dataset_training/yes\\\\Y45.JPG',\n",
       " 'brain_tumor_dataset_training/yes\\\\Y46.jpg',\n",
       " 'brain_tumor_dataset_training/yes\\\\Y47.JPG',\n",
       " 'brain_tumor_dataset_training/yes\\\\Y49.JPG',\n",
       " 'brain_tumor_dataset_training/yes\\\\Y50.JPG',\n",
       " 'brain_tumor_dataset_training/yes\\\\Y51.jpg',\n",
       " 'brain_tumor_dataset_training/yes\\\\Y52.jpg',\n",
       " 'brain_tumor_dataset_training/yes\\\\Y53.jpg',\n",
       " 'brain_tumor_dataset_training/yes\\\\Y54.jpg',\n",
       " 'brain_tumor_dataset_training/yes\\\\Y55.jpg',\n",
       " 'brain_tumor_dataset_training/yes\\\\Y56.jpg',\n",
       " 'brain_tumor_dataset_training/yes\\\\Y58.JPG',\n",
       " 'brain_tumor_dataset_training/yes\\\\Y59.JPG',\n",
       " 'brain_tumor_dataset_training/yes\\\\Y6.jpg',\n",
       " 'brain_tumor_dataset_training/yes\\\\Y60.jpg',\n",
       " 'brain_tumor_dataset_training/yes\\\\Y61.jpg',\n",
       " 'brain_tumor_dataset_training/yes\\\\Y62.jpg',\n",
       " 'brain_tumor_dataset_training/yes\\\\Y65.JPG',\n",
       " 'brain_tumor_dataset_training/yes\\\\Y66.JPG',\n",
       " 'brain_tumor_dataset_training/yes\\\\Y67.JPG',\n",
       " 'brain_tumor_dataset_training/yes\\\\Y69.jpg',\n",
       " 'brain_tumor_dataset_training/yes\\\\Y7.jpg',\n",
       " 'brain_tumor_dataset_training/yes\\\\Y70.jpg',\n",
       " 'brain_tumor_dataset_training/yes\\\\Y71.JPG',\n",
       " 'brain_tumor_dataset_training/yes\\\\Y73.jpg',\n",
       " 'brain_tumor_dataset_training/yes\\\\Y74.jpg',\n",
       " 'brain_tumor_dataset_training/yes\\\\Y75.JPG',\n",
       " 'brain_tumor_dataset_training/yes\\\\Y76.jpg',\n",
       " 'brain_tumor_dataset_training/yes\\\\Y77.jpg',\n",
       " 'brain_tumor_dataset_training/yes\\\\Y78.jpg',\n",
       " 'brain_tumor_dataset_training/yes\\\\Y79.jpg',\n",
       " 'brain_tumor_dataset_training/yes\\\\Y8.jpg',\n",
       " 'brain_tumor_dataset_training/yes\\\\Y81.jpg',\n",
       " 'brain_tumor_dataset_training/yes\\\\Y82.jpg',\n",
       " 'brain_tumor_dataset_training/yes\\\\Y85.JPG',\n",
       " 'brain_tumor_dataset_training/yes\\\\Y86.JPG',\n",
       " 'brain_tumor_dataset_training/yes\\\\Y89.JPG',\n",
       " 'brain_tumor_dataset_training/yes\\\\Y9.jpg',\n",
       " 'brain_tumor_dataset_training/yes\\\\Y90.jpg',\n",
       " 'brain_tumor_dataset_training/yes\\\\Y91.jpg',\n",
       " 'brain_tumor_dataset_training/yes\\\\Y92.jpg',\n",
       " 'brain_tumor_dataset_training/yes\\\\Y92.png',\n",
       " 'brain_tumor_dataset_training/yes\\\\Y95.jpg',\n",
       " 'brain_tumor_dataset_training/yes\\\\Y96.jpg',\n",
       " 'brain_tumor_dataset_training/yes\\\\Y97.JPG',\n",
       " 'brain_tumor_dataset_training/yes\\\\Y98.JPG',\n",
       " 'brain_tumor_dataset_training/yes\\\\Y99.JPG']"
      ]
     },
     "execution_count": 13,
     "metadata": {},
     "output_type": "execute_result"
    }
   ],
   "source": [
    "folder_length_no"
   ]
  },
  {
   "cell_type": "code",
   "execution_count": 14,
   "id": "43b7a94f",
   "metadata": {},
   "outputs": [],
   "source": [
    "import cv2\n",
    "count=0\n",
    "for i in folder_length_no:\n",
    "    img=cv2.imread(i)\n",
    "    count=count+1\n",
    "    display='image{}'.format(count)\n",
    "    \n",
    "    cv2.imshow(display,img)\n",
    "    cv2.waitKey(1000)\n",
    "cv2.destroyAllWindows()\n",
    "    \n",
    "\n",
    " "
   ]
  },
  {
   "cell_type": "code",
   "execution_count": 16,
   "id": "2187c68d",
   "metadata": {},
   "outputs": [],
   "source": [
    "# add preprocessing layer to the front of VGG\n",
    "vgg = VGG19(input_shape=image_size + [3], weights='imagenet', include_top=False)\n",
    "\n",
    "# don't train existing weights\n",
    "for layer in vgg.layers:\n",
    "  layer.trainable = False"
   ]
  },
  {
   "cell_type": "code",
   "execution_count": 17,
   "id": "5b9162cb",
   "metadata": {},
   "outputs": [],
   "source": [
    "from tensorflow.keras.layers import MaxPooling2D\n",
    "folders=glob('brain_tumor_dataset_training/*')\n",
    "# our layers - you can add more if you want\n",
    "x = Flatten()(vgg.output)\n",
    "x=Dropout(0.1)(x)\n",
    "\n",
    "\n",
    "x = Dense(1000, activation='relu')(x)\n",
    "x=Dropout(0.1)(x)\n",
    "x = Dense(1000, activation='relu')(x)\n",
    "x = Dense(1000, activation='relu')(x)\n",
    "x=Dropout(0.1)(x)\n",
    "\n",
    "\n",
    "\n",
    "prediction = Dense(1, activation='sigmoid')(x)    "
   ]
  },
  {
   "cell_type": "code",
   "execution_count": 18,
   "id": "7c4e8755",
   "metadata": {},
   "outputs": [
    {
     "name": "stdout",
     "output_type": "stream",
     "text": [
      "Model: \"model\"\n",
      "_________________________________________________________________\n",
      " Layer (type)                Output Shape              Param #   \n",
      "=================================================================\n",
      " input_2 (InputLayer)        [(None, 224, 224, 3)]     0         \n",
      "                                                                 \n",
      " block1_conv1 (Conv2D)       (None, 224, 224, 64)      1792      \n",
      "                                                                 \n",
      " block1_conv2 (Conv2D)       (None, 224, 224, 64)      36928     \n",
      "                                                                 \n",
      " block1_pool (MaxPooling2D)  (None, 112, 112, 64)      0         \n",
      "                                                                 \n",
      " block2_conv1 (Conv2D)       (None, 112, 112, 128)     73856     \n",
      "                                                                 \n",
      " block2_conv2 (Conv2D)       (None, 112, 112, 128)     147584    \n",
      "                                                                 \n",
      " block2_pool (MaxPooling2D)  (None, 56, 56, 128)       0         \n",
      "                                                                 \n",
      " block3_conv1 (Conv2D)       (None, 56, 56, 256)       295168    \n",
      "                                                                 \n",
      " block3_conv2 (Conv2D)       (None, 56, 56, 256)       590080    \n",
      "                                                                 \n",
      " block3_conv3 (Conv2D)       (None, 56, 56, 256)       590080    \n",
      "                                                                 \n",
      " block3_conv4 (Conv2D)       (None, 56, 56, 256)       590080    \n",
      "                                                                 \n",
      " block3_pool (MaxPooling2D)  (None, 28, 28, 256)       0         \n",
      "                                                                 \n",
      " block4_conv1 (Conv2D)       (None, 28, 28, 512)       1180160   \n",
      "                                                                 \n",
      " block4_conv2 (Conv2D)       (None, 28, 28, 512)       2359808   \n",
      "                                                                 \n",
      " block4_conv3 (Conv2D)       (None, 28, 28, 512)       2359808   \n",
      "                                                                 \n",
      " block4_conv4 (Conv2D)       (None, 28, 28, 512)       2359808   \n",
      "                                                                 \n",
      " block4_pool (MaxPooling2D)  (None, 14, 14, 512)       0         \n",
      "                                                                 \n",
      " block5_conv1 (Conv2D)       (None, 14, 14, 512)       2359808   \n",
      "                                                                 \n",
      " block5_conv2 (Conv2D)       (None, 14, 14, 512)       2359808   \n",
      "                                                                 \n",
      " block5_conv3 (Conv2D)       (None, 14, 14, 512)       2359808   \n",
      "                                                                 \n",
      " block5_conv4 (Conv2D)       (None, 14, 14, 512)       2359808   \n",
      "                                                                 \n",
      " block5_pool (MaxPooling2D)  (None, 7, 7, 512)         0         \n",
      "                                                                 \n",
      " flatten (Flatten)           (None, 25088)             0         \n",
      "                                                                 \n",
      " dropout (Dropout)           (None, 25088)             0         \n",
      "                                                                 \n",
      " dense (Dense)               (None, 1000)              25089000  \n",
      "                                                                 \n",
      " dropout_1 (Dropout)         (None, 1000)              0         \n",
      "                                                                 \n",
      " dense_1 (Dense)             (None, 1000)              1001000   \n",
      "                                                                 \n",
      " dense_2 (Dense)             (None, 1000)              1001000   \n",
      "                                                                 \n",
      " dropout_2 (Dropout)         (None, 1000)              0         \n",
      "                                                                 \n",
      " dense_3 (Dense)             (None, 1)                 1001      \n",
      "                                                                 \n",
      "=================================================================\n",
      "Total params: 47,116,385\n",
      "Trainable params: 27,092,001\n",
      "Non-trainable params: 20,024,384\n",
      "_________________________________________________________________\n"
     ]
    }
   ],
   "source": [
    "from tensorflow.keras.layers import Flatten\n",
    "#create a model object\n",
    "model = Model(inputs=vgg.input, outputs=prediction)\n",
    "\n",
    "\n",
    "# view the structure of the model\n",
    "model.summary()"
   ]
  },
  {
   "cell_type": "code",
   "execution_count": 19,
   "id": "55521908",
   "metadata": {},
   "outputs": [],
   "source": [
    "model.compile(\n",
    "  loss='binary_crossentropy',\n",
    "  optimizer='adam',\n",
    "  metrics=['accuracy']\n",
    ")"
   ]
  },
  {
   "cell_type": "code",
   "execution_count": 20,
   "id": "0b220636",
   "metadata": {},
   "outputs": [],
   "source": [
    "train_directory='new_brain_train'\n",
    "test_directory='new_brain_test'"
   ]
  },
  {
   "cell_type": "code",
   "execution_count": 21,
   "id": "5aea4500",
   "metadata": {},
   "outputs": [
    {
     "name": "stdout",
     "output_type": "stream",
     "text": [
      "Found 5031 images belonging to 2 classes.\n",
      "Found 1186 images belonging to 2 classes.\n"
     ]
    }
   ],
   "source": [
    "from keras.preprocessing.image import ImageDataGenerator\n",
    "\n",
    "train_datagen = ImageDataGenerator(rescale = 1./255,\n",
    "                                   shear_range = 0.2,\n",
    "                                   zoom_range = 0.2,\n",
    "                                   horizontal_flip = True,\n",
    "                                  validation_split=0.1)\n",
    "\n",
    "test_datagen = ImageDataGenerator(rescale = 1./255,validation_split=0.1)\n",
    "\n",
    "training_set = train_datagen.flow_from_directory(train_directory,\n",
    "                                                 target_size = (224, 224),\n",
    "                                                 batch_size = 32,\n",
    "                                                 class_mode = 'binary')\n",
    "\n",
    "test_set = test_datagen.flow_from_directory(test_directory,\n",
    "                                            target_size = (224, 224),\n",
    "                                            batch_size = 32,\n",
    "                                            class_mode = 'binary')"
   ]
  },
  {
   "cell_type": "code",
   "execution_count": 22,
   "id": "9b95952d",
   "metadata": {},
   "outputs": [
    {
     "name": "stdout",
     "output_type": "stream",
     "text": [
      "Epoch 1/5\n",
      "158/158 [==============================] - 982s 6s/step - loss: 0.4134 - accuracy: 0.8770 - val_loss: 0.3246 - val_accuracy: 0.8676\n",
      "Epoch 2/5\n",
      "158/158 [==============================] - 972s 6s/step - loss: 0.1171 - accuracy: 0.9535 - val_loss: 0.1921 - val_accuracy: 0.9207\n",
      "Epoch 3/5\n",
      "158/158 [==============================] - 1014s 6s/step - loss: 0.1004 - accuracy: 0.9616 - val_loss: 0.1963 - val_accuracy: 0.9157\n",
      "Epoch 4/5\n",
      "158/158 [==============================] - 1057s 7s/step - loss: 0.0741 - accuracy: 0.9742 - val_loss: 0.2520 - val_accuracy: 0.8963\n",
      "Epoch 5/5\n",
      "158/158 [==============================] - 984s 6s/step - loss: 0.0626 - accuracy: 0.9779 - val_loss: 0.1331 - val_accuracy: 0.9536\n"
     ]
    }
   ],
   "source": [
    "r = model.fit(\n",
    "  training_set,\n",
    "  validation_data=test_set,\n",
    "  epochs=5,\n",
    "  steps_per_epoch=len(training_set),\n",
    "  validation_steps=len(test_set)\n",
    ")"
   ]
  },
  {
   "cell_type": "code",
   "execution_count": 23,
   "id": "b7933224",
   "metadata": {},
   "outputs": [],
   "source": [
    "his=r.history"
   ]
  },
  {
   "cell_type": "code",
   "execution_count": 24,
   "id": "7af41abc",
   "metadata": {},
   "outputs": [],
   "source": [
    "history=his.keys()"
   ]
  },
  {
   "cell_type": "code",
   "execution_count": 25,
   "id": "64b72132",
   "metadata": {},
   "outputs": [
    {
     "data": {
      "text/plain": [
       "dict_keys(['loss', 'accuracy', 'val_loss', 'val_accuracy'])"
      ]
     },
     "execution_count": 25,
     "metadata": {},
     "output_type": "execute_result"
    }
   ],
   "source": [
    "history"
   ]
  },
  {
   "cell_type": "code",
   "execution_count": 26,
   "id": "4e6ed198",
   "metadata": {},
   "outputs": [
    {
     "data": {
      "text/plain": [
       "[0.8676222562789917,\n",
       " 0.9207419753074646,\n",
       " 0.9156829714775085,\n",
       " 0.8962900638580322,\n",
       " 0.9536256194114685]"
      ]
     },
     "execution_count": 26,
     "metadata": {},
     "output_type": "execute_result"
    }
   ],
   "source": [
    "r.history['val_accuracy']"
   ]
  },
  {
   "cell_type": "code",
   "execution_count": 27,
   "id": "f97ee8c1",
   "metadata": {},
   "outputs": [
    {
     "name": "stdout",
     "output_type": "stream",
     "text": [
      "38/38 [==============================] - 163s 4s/step - loss: 0.1331 - accuracy: 0.9536\n"
     ]
    },
    {
     "data": {
      "text/plain": [
       "[0.1331421285867691, 0.9536256194114685]"
      ]
     },
     "execution_count": 27,
     "metadata": {},
     "output_type": "execute_result"
    }
   ],
   "source": [
    "model.evaluate(test_set)"
   ]
  },
  {
   "cell_type": "code",
   "execution_count": 28,
   "id": "95424b42",
   "metadata": {},
   "outputs": [
    {
     "data": {
      "image/png": "[encoded data removed]",
      "text/plain": [
       "<Figure size 432x288 with 1 Axes>"
      ]
     },
     "metadata": {
      "needs_background": "light"
     },
     "output_type": "display_data"
    }
   ],
   "source": [
    "from matplotlib import pyplot\n",
    "\n",
    "pyplot.title('Loss')\n",
    "pyplot.plot(r.history['loss'], label='train')\n",
    "pyplot.plot(r.history['val_loss'], label='test')\n",
    "pyplot.legend()\n",
    "pyplot.show()\n"
   ]
  },
  {
   "cell_type": "code",
   "execution_count": 29,
   "id": "1bd26306",
   "metadata": {},
   "outputs": [
    {
     "data": {
      "image/png": "[encoded data removed]",
      "text/plain": [
       "<Figure size 432x288 with 1 Axes>"
      ]
     },
     "metadata": {
      "needs_background": "light"
     },
     "output_type": "display_data"
    }
   ],
   "source": [
    "\n",
    "pyplot.title('Accuracy')\n",
    "pyplot.plot(r.history['accuracy'], label='train')\n",
    "pyplot.plot(r.history['val_accuracy'], label='test')\n",
    "pyplot.legend()\n",
    "pyplot.show()"
   ]
  },
  {
   "cell_type": "code",
   "execution_count": null,
   "id": "8e0d6dee",
   "metadata": {},
   "outputs": [],
   "source": []
  }
 ],
 "metadata": {
  "kernelspec": {
   "display_name": "Python 3 (ipykernel)",
   "language": "python",
   "name": "python3"
  },
  "language_info": {
   "codemirror_mode": {
    "name": "ipython",
    "version": 3
   },
   "file_extension": ".py",
   "mimetype": "text/x-python",
   "name": "python",
   "nbconvert_exporter": "python",
   "pygments_lexer": "ipython3",
   "version": "3.9.7"
  }
 },
 "nbformat": 4,
 "nbformat_minor": 5
}
